{
 "cells": [
  {
   "cell_type": "markdown",
   "metadata": {},
   "source": [
    "## Creating word2vec for dialoge clustering"
   ]
  },
  {
   "cell_type": "code",
   "execution_count": 1,
   "metadata": {
    "collapsed": true
   },
   "outputs": [],
   "source": [
    "import pandas as pd\n",
    "import numpy as np"
   ]
  },
  {
   "cell_type": "code",
   "execution_count": 2,
   "metadata": {},
   "outputs": [
    {
     "data": {
      "text/plain": [
       "Index(['speaker_order', '更正order', 'content', '人工更正', '对象', '态度', '行为'], dtype='object')"
      ]
     },
     "execution_count": 2,
     "metadata": {},
     "output_type": "execute_result"
    }
   ],
   "source": [
    "## read data\n",
    "df = pd.read_csv('./data/part1-2-3.csv')\n",
    "df.columns"
   ]
  },
  {
   "cell_type": "code",
   "execution_count": 3,
   "metadata": {},
   "outputs": [],
   "source": [
    "## remove Nan in 人工更正\n",
    "df = df.dropna(subset=['人工更正'])"
   ]
  },
  {
   "cell_type": "code",
   "execution_count": 4,
   "metadata": {
    "collapsed": true
   },
   "outputs": [],
   "source": [
    "dialoge = df['人工更正']\n",
    "dialoge_label = df['更正order']"
   ]
  },
  {
   "cell_type": "code",
   "execution_count": 5,
   "metadata": {},
   "outputs": [
    {
     "data": {
      "text/plain": [
       "9.0     565\n",
       "8.0     497\n",
       "1.0     458\n",
       "12.0    391\n",
       "4.0     388\n",
       "11.0    376\n",
       "7.0     337\n",
       "10.0    238\n",
       "3.0     210\n",
       "5.0     208\n",
       "6.0     149\n",
       "2.0     136\n",
       "Name: 更正order, dtype: int64"
      ]
     },
     "execution_count": 5,
     "metadata": {},
     "output_type": "execute_result"
    }
   ],
   "source": [
    "dialoge_label.value_counts()"
   ]
  },
  {
   "cell_type": "code",
   "execution_count": 6,
   "metadata": {},
   "outputs": [
    {
     "data": {
      "text/plain": [
       "(3953, 7)"
      ]
     },
     "execution_count": 6,
     "metadata": {},
     "output_type": "execute_result"
    }
   ],
   "source": [
    "df.shape"
   ]
  },
  {
   "cell_type": "markdown",
   "metadata": {},
   "source": [
    "## 1. trainning word2vec"
   ]
  },
  {
   "cell_type": "markdown",
   "metadata": {},
   "source": [
    "### using jieba to create word segments"
   ]
  },
  {
   "cell_type": "code",
   "execution_count": 7,
   "metadata": {},
   "outputs": [
    {
     "name": "stderr",
     "output_type": "stream",
     "text": [
      "Building prefix dict from the default dictionary ...\n",
      "Loading model from cache /tmp/jieba.cache\n",
      "Loading model cost 0.736 seconds.\n",
      "Prefix dict has been built succesfully.\n"
     ]
    }
   ],
   "source": [
    "from utils import generate_seglist, remove_punctuation"
   ]
  },
  {
   "cell_type": "markdown",
   "metadata": {},
   "source": [
    "### stop-words"
   ]
  },
  {
   "cell_type": "code",
   "execution_count": 8,
   "metadata": {},
   "outputs": [],
   "source": [
    "stopwords = {}.fromkeys([ word.rstrip() for word in pd.read_csv('./data/stopwords.txt',header=None)[0].values ])"
   ]
  },
  {
   "cell_type": "markdown",
   "metadata": {},
   "source": [
    "### word segment"
   ]
  },
  {
   "cell_type": "code",
   "execution_count": 9,
   "metadata": {},
   "outputs": [],
   "source": [
    "sentence_seg = dialoge.apply(lambda x: generate_seglist(x,stopwords))"
   ]
  },
  {
   "cell_type": "code",
   "execution_count": 10,
   "metadata": {},
   "outputs": [
    {
     "data": {
      "text/plain": [
       "3950            [狼, 查杀, 狼]\n",
       "3951                  [我服]\n",
       "3952                  [我服]\n",
       "3953    [视角, 里, 两张牌, 1, 6]\n",
       "3954                    []\n",
       "Name: 人工更正, dtype: object"
      ]
     },
     "execution_count": 10,
     "metadata": {},
     "output_type": "execute_result"
    }
   ],
   "source": [
    "sentence_seg.tail()"
   ]
  },
  {
   "cell_type": "markdown",
   "metadata": {},
   "source": [
    "### trainning"
   ]
  },
  {
   "cell_type": "code",
   "execution_count": 11,
   "metadata": {
    "collapsed": true
   },
   "outputs": [],
   "source": [
    "from word2vec.train_word2vec import generate_word2vec"
   ]
  },
  {
   "cell_type": "code",
   "execution_count": 12,
   "metadata": {},
   "outputs": [],
   "source": [
    "model = generate_word2vec(sentence_seg,'./data/word2vec_wolf.model','./data/word2vec_wolf.vector')"
   ]
  },
  {
   "cell_type": "code",
   "execution_count": 42,
   "metadata": {},
   "outputs": [],
   "source": [
    "result = model.most_similar(u'狼人')"
   ]
  },
  {
   "cell_type": "code",
   "execution_count": 43,
   "metadata": {},
   "outputs": [
    {
     "name": "stdout",
     "output_type": "stream",
     "text": [
      "一张 0.9969810843467712\n",
      "7 0.9969286322593689\n",
      "9 0.9968434572219849\n",
      "12 0.9968425035476685\n",
      "狼 0.9968361854553223\n",
      "牌 0.9968193769454956\n",
      "  0.9967952966690063\n",
      "4 0.9967641830444336\n",
      "位 0.9967229962348938\n",
      "警徽 0.9966402053833008\n"
     ]
    }
   ],
   "source": [
    "for word in result:\n",
    "    print(word[0],word[1])"
   ]
  },
  {
   "cell_type": "markdown",
   "metadata": {},
   "source": [
    "## 2. generate word2vec"
   ]
  },
  {
   "cell_type": "code",
   "execution_count": 15,
   "metadata": {
    "collapsed": true
   },
   "outputs": [],
   "source": [
    "from utils import generate_sentence_vec"
   ]
  },
  {
   "cell_type": "code",
   "execution_count": 16,
   "metadata": {
    "collapsed": true
   },
   "outputs": [],
   "source": [
    "sentence_word2vec = sentence_seg.apply(lambda x:generate_sentence_vec(x, model, num_features=400))\n",
    "sentence_word2vec = pd.DataFrame(sentence_word2vec.tolist())"
   ]
  },
  {
   "cell_type": "code",
   "execution_count": 17,
   "metadata": {},
   "outputs": [
    {
     "data": {
      "text/html": [
       "<div>\n",
       "<style>\n",
       "    .dataframe thead tr:only-child th {\n",
       "        text-align: right;\n",
       "    }\n",
       "\n",
       "    .dataframe thead th {\n",
       "        text-align: left;\n",
       "    }\n",
       "\n",
       "    .dataframe tbody tr th {\n",
       "        vertical-align: top;\n",
       "    }\n",
       "</style>\n",
       "<table border=\"1\" class=\"dataframe\">\n",
       "  <thead>\n",
       "    <tr style=\"text-align: right;\">\n",
       "      <th></th>\n",
       "      <th>0</th>\n",
       "      <th>1</th>\n",
       "      <th>2</th>\n",
       "      <th>3</th>\n",
       "      <th>4</th>\n",
       "      <th>5</th>\n",
       "      <th>6</th>\n",
       "      <th>7</th>\n",
       "      <th>8</th>\n",
       "      <th>9</th>\n",
       "      <th>...</th>\n",
       "      <th>390</th>\n",
       "      <th>391</th>\n",
       "      <th>392</th>\n",
       "      <th>393</th>\n",
       "      <th>394</th>\n",
       "      <th>395</th>\n",
       "      <th>396</th>\n",
       "      <th>397</th>\n",
       "      <th>398</th>\n",
       "      <th>399</th>\n",
       "    </tr>\n",
       "  </thead>\n",
       "  <tbody>\n",
       "    <tr>\n",
       "      <th>0</th>\n",
       "      <td>-0.000382</td>\n",
       "      <td>-0.003143</td>\n",
       "      <td>0.014360</td>\n",
       "      <td>0.003560</td>\n",
       "      <td>0.001146</td>\n",
       "      <td>0.016539</td>\n",
       "      <td>-0.006242</td>\n",
       "      <td>-0.009717</td>\n",
       "      <td>0.002565</td>\n",
       "      <td>0.013287</td>\n",
       "      <td>...</td>\n",
       "      <td>0.003087</td>\n",
       "      <td>0.007151</td>\n",
       "      <td>-0.008839</td>\n",
       "      <td>-0.000484</td>\n",
       "      <td>-0.020017</td>\n",
       "      <td>0.008113</td>\n",
       "      <td>-0.003059</td>\n",
       "      <td>0.008081</td>\n",
       "      <td>-0.006103</td>\n",
       "      <td>-0.009135</td>\n",
       "    </tr>\n",
       "    <tr>\n",
       "      <th>1</th>\n",
       "      <td>-0.000713</td>\n",
       "      <td>-0.006324</td>\n",
       "      <td>0.030301</td>\n",
       "      <td>0.009010</td>\n",
       "      <td>0.005565</td>\n",
       "      <td>0.034504</td>\n",
       "      <td>-0.011347</td>\n",
       "      <td>-0.017893</td>\n",
       "      <td>0.002361</td>\n",
       "      <td>0.027018</td>\n",
       "      <td>...</td>\n",
       "      <td>0.009325</td>\n",
       "      <td>0.016058</td>\n",
       "      <td>-0.018944</td>\n",
       "      <td>-0.003481</td>\n",
       "      <td>-0.042467</td>\n",
       "      <td>0.019352</td>\n",
       "      <td>-0.007014</td>\n",
       "      <td>0.019449</td>\n",
       "      <td>-0.011015</td>\n",
       "      <td>-0.018496</td>\n",
       "    </tr>\n",
       "    <tr>\n",
       "      <th>2</th>\n",
       "      <td>-0.000751</td>\n",
       "      <td>-0.004029</td>\n",
       "      <td>0.016096</td>\n",
       "      <td>0.004584</td>\n",
       "      <td>0.003395</td>\n",
       "      <td>0.018421</td>\n",
       "      <td>-0.005866</td>\n",
       "      <td>-0.009962</td>\n",
       "      <td>0.001234</td>\n",
       "      <td>0.015285</td>\n",
       "      <td>...</td>\n",
       "      <td>0.004884</td>\n",
       "      <td>0.008271</td>\n",
       "      <td>-0.010429</td>\n",
       "      <td>-0.001827</td>\n",
       "      <td>-0.023146</td>\n",
       "      <td>0.010373</td>\n",
       "      <td>-0.004210</td>\n",
       "      <td>0.011341</td>\n",
       "      <td>-0.006671</td>\n",
       "      <td>-0.009801</td>\n",
       "    </tr>\n",
       "    <tr>\n",
       "      <th>3</th>\n",
       "      <td>NaN</td>\n",
       "      <td>NaN</td>\n",
       "      <td>NaN</td>\n",
       "      <td>NaN</td>\n",
       "      <td>NaN</td>\n",
       "      <td>NaN</td>\n",
       "      <td>NaN</td>\n",
       "      <td>NaN</td>\n",
       "      <td>NaN</td>\n",
       "      <td>NaN</td>\n",
       "      <td>...</td>\n",
       "      <td>NaN</td>\n",
       "      <td>NaN</td>\n",
       "      <td>NaN</td>\n",
       "      <td>NaN</td>\n",
       "      <td>NaN</td>\n",
       "      <td>NaN</td>\n",
       "      <td>NaN</td>\n",
       "      <td>NaN</td>\n",
       "      <td>NaN</td>\n",
       "      <td>NaN</td>\n",
       "    </tr>\n",
       "    <tr>\n",
       "      <th>4</th>\n",
       "      <td>-0.000871</td>\n",
       "      <td>-0.000103</td>\n",
       "      <td>0.004457</td>\n",
       "      <td>0.002524</td>\n",
       "      <td>0.000728</td>\n",
       "      <td>0.004508</td>\n",
       "      <td>-0.001114</td>\n",
       "      <td>-0.003064</td>\n",
       "      <td>0.001052</td>\n",
       "      <td>0.003285</td>\n",
       "      <td>...</td>\n",
       "      <td>0.000812</td>\n",
       "      <td>0.002864</td>\n",
       "      <td>-0.003187</td>\n",
       "      <td>-0.001034</td>\n",
       "      <td>-0.006157</td>\n",
       "      <td>0.002403</td>\n",
       "      <td>-0.000483</td>\n",
       "      <td>0.003229</td>\n",
       "      <td>-0.000641</td>\n",
       "      <td>-0.003304</td>\n",
       "    </tr>\n",
       "  </tbody>\n",
       "</table>\n",
       "<p>5 rows × 400 columns</p>\n",
       "</div>"
      ],
      "text/plain": [
       "        0         1         2         3         4         5         6    \\\n",
       "0 -0.000382 -0.003143  0.014360  0.003560  0.001146  0.016539 -0.006242   \n",
       "1 -0.000713 -0.006324  0.030301  0.009010  0.005565  0.034504 -0.011347   \n",
       "2 -0.000751 -0.004029  0.016096  0.004584  0.003395  0.018421 -0.005866   \n",
       "3       NaN       NaN       NaN       NaN       NaN       NaN       NaN   \n",
       "4 -0.000871 -0.000103  0.004457  0.002524  0.000728  0.004508 -0.001114   \n",
       "\n",
       "        7         8         9      ...          390       391       392  \\\n",
       "0 -0.009717  0.002565  0.013287    ...     0.003087  0.007151 -0.008839   \n",
       "1 -0.017893  0.002361  0.027018    ...     0.009325  0.016058 -0.018944   \n",
       "2 -0.009962  0.001234  0.015285    ...     0.004884  0.008271 -0.010429   \n",
       "3       NaN       NaN       NaN    ...          NaN       NaN       NaN   \n",
       "4 -0.003064  0.001052  0.003285    ...     0.000812  0.002864 -0.003187   \n",
       "\n",
       "        393       394       395       396       397       398       399  \n",
       "0 -0.000484 -0.020017  0.008113 -0.003059  0.008081 -0.006103 -0.009135  \n",
       "1 -0.003481 -0.042467  0.019352 -0.007014  0.019449 -0.011015 -0.018496  \n",
       "2 -0.001827 -0.023146  0.010373 -0.004210  0.011341 -0.006671 -0.009801  \n",
       "3       NaN       NaN       NaN       NaN       NaN       NaN       NaN  \n",
       "4 -0.001034 -0.006157  0.002403 -0.000483  0.003229 -0.000641 -0.003304  \n",
       "\n",
       "[5 rows x 400 columns]"
      ]
     },
     "execution_count": 17,
     "metadata": {},
     "output_type": "execute_result"
    }
   ],
   "source": [
    "sentence_word2vec.head()"
   ]
  },
  {
   "cell_type": "code",
   "execution_count": 18,
   "metadata": {},
   "outputs": [
    {
     "data": {
      "text/plain": [
       "array([[-0.00038195, -0.00314335,  0.01435995, ...,  0.00808078,\n",
       "        -0.00610261, -0.00913508],\n",
       "       [-0.00071327, -0.0063244 ,  0.03030065, ...,  0.0194491 ,\n",
       "        -0.01101461, -0.01849557],\n",
       "       [-0.00075143, -0.00402934,  0.01609648, ...,  0.01134066,\n",
       "        -0.00667086, -0.00980081],\n",
       "       ..., \n",
       "       [        nan,         nan,         nan, ...,         nan,\n",
       "                nan,         nan],\n",
       "       [-0.00095948, -0.00570738,  0.0245945 , ...,  0.01628431,\n",
       "        -0.00956113, -0.01647014],\n",
       "       [        nan,         nan,         nan, ...,         nan,\n",
       "                nan,         nan]])"
      ]
     },
     "execution_count": 18,
     "metadata": {},
     "output_type": "execute_result"
    }
   ],
   "source": [
    "sentence_word2vec = sentence_word2vec.values\n",
    "sentence_word2vec"
   ]
  },
  {
   "cell_type": "markdown",
   "metadata": {},
   "source": [
    "## 3. kmeans clustering"
   ]
  },
  {
   "cell_type": "code",
   "execution_count": 19,
   "metadata": {
    "collapsed": true
   },
   "outputs": [],
   "source": [
    "from scipy.cluster.vq import kmeans,vq\n",
    "from scipy.spatial.distance import cdist\n",
    "import matplotlib.pyplot as plt\n",
    "%matplotlib inline"
   ]
  },
  {
   "cell_type": "code",
   "execution_count": 20,
   "metadata": {
    "collapsed": true
   },
   "outputs": [],
   "source": [
    "# load dataset\n",
    "X = sentence_word2vec[~np.isnan(sentence_word2vec).any(axis=1)]\n",
    "y = dialoge_label[~np.isnan(sentence_word2vec).any(axis=1)]\n",
    "\n",
    "##### cluster data into K=1..10 clusters #####\n",
    "K = range(1,15)\n",
    "\n",
    "# scipy.cluster.vq.kmeans\n",
    "KM = [kmeans(X,k) for k in K]\n",
    "centroids = [cent for (cent,var) in KM]   # cluster centroids\n",
    "\n",
    "# alternative: scipy.spatial.distance.cdist\n",
    "D_k = [cdist(X, cent, 'euclidean') for cent in centroids]\n",
    "cIdx = [np.argmin(D,axis=1) for D in D_k]\n",
    "dist = [np.min(D,axis=1) for D in D_k]\n",
    "avgWithinSS = [sum(d)/X.shape[0] for d in dist]"
   ]
  },
  {
   "cell_type": "code",
   "execution_count": 21,
   "metadata": {},
   "outputs": [
    {
     "data": {
      "text/plain": [
       "<matplotlib.text.Text at 0x7f2efb78cf60>"
      ]
     },
     "execution_count": 21,
     "metadata": {},
     "output_type": "execute_result"
    },
    {
     "data": {
      "image/png": "[encoded data removed]",
      "text/plain": [
       "<matplotlib.figure.Figure at 0x7f2efba7f6a0>"
      ]
     },
     "metadata": {},
     "output_type": "display_data"
    }
   ],
   "source": [
    "##### plot ###\n",
    "kIdx = 12\n",
    "\n",
    "# elbow curve\n",
    "fig = plt.figure()\n",
    "ax = fig.add_subplot(111)\n",
    "ax.plot(K, avgWithinSS, 'b*-')\n",
    "ax.plot(K[kIdx], avgWithinSS[kIdx], marker='o', markersize=12, \n",
    "    markeredgewidth=2, markeredgecolor='r', markerfacecolor='None')\n",
    "plt.grid(True)\n",
    "plt.xlabel('Number of clusters')\n",
    "plt.ylabel('Average within-cluster sum of squares')\n",
    "plt.title('Elbow for KMeans clustering')"
   ]
  },
  {
   "cell_type": "markdown",
   "metadata": {},
   "source": [
    "## 4. tsne"
   ]
  },
  {
   "cell_type": "code",
   "execution_count": 22,
   "metadata": {
    "collapsed": true
   },
   "outputs": [],
   "source": [
    "from sklearn.manifold import TSNE"
   ]
  },
  {
   "cell_type": "code",
   "execution_count": 23,
   "metadata": {
    "collapsed": true
   },
   "outputs": [],
   "source": [
    "tsne = TSNE(n_components=2)\n",
    "X_tsne = tsne.fit_transform(X)"
   ]
  },
  {
   "cell_type": "code",
   "execution_count": 24,
   "metadata": {},
   "outputs": [
    {
     "name": "stderr",
     "output_type": "stream",
     "text": [
      "/usr/local/envs/deeplearning/lib/python3.6/site-packages/matplotlib/axes/_axes.py:545: UserWarning: No labelled objects found. Use label='...' kwarg on individual plots.\n",
      "  warnings.warn(\"No labelled objects found. \"\n"
     ]
    },
    {
     "data": {
      "image/png": "[encoded data removed]",
      "text/plain": [
       "<matplotlib.figure.Figure at 0x7f2ef8072fd0>"
      ]
     },
     "metadata": {},
     "output_type": "display_data"
    }
   ],
   "source": [
    "fig = plt.figure()\n",
    "ax = fig.add_subplot(1,1,1)\n",
    "ax.scatter(X_tsne[:, 0], X_tsne[:, 1], c=y, cmap='Paired')\n",
    "ax.legend()\n",
    "plt.show()"
   ]
  },
  {
   "cell_type": "code",
   "execution_count": 35,
   "metadata": {},
   "outputs": [
    {
     "data": {
      "text/plain": [
       "(array([ 171,  189,  318,  420,  754,  847,  914,  917,  937, 1007, 1059,\n",
       "        1066, 1070, 1075, 1188, 1190, 1204, 1212, 1244, 1255, 1268, 1362,\n",
       "        1367, 1384, 1405, 1421, 1544, 1607, 1623, 1728, 1762, 1791, 2046,\n",
       "        2063, 2124, 2127, 2167, 2169, 2172, 2173, 2177, 2212, 2215, 2284,\n",
       "        2317, 2340, 2355, 2361, 2386, 2391, 2392, 2394, 2428, 2452, 2505,\n",
       "        2546, 2552, 2554, 2597, 2619, 2637, 2700, 2704, 2725, 2732, 2765,\n",
       "        2774, 2783, 2797, 2798, 2836, 2837, 2877, 2883, 2884, 2900, 2938,\n",
       "        2945, 2947, 2991, 3026, 3069, 3076, 3137, 3138, 3140, 3219, 3236,\n",
       "        3237, 3293, 3296, 3332, 3365, 3373, 3429]),)"
      ]
     },
     "execution_count": 35,
     "metadata": {},
     "output_type": "execute_result"
    }
   ],
   "source": [
    "np.where(X_tsne[:,1]<-70)"
   ]
  },
  {
   "cell_type": "code",
   "execution_count": 36,
   "metadata": {},
   "outputs": [
    {
     "data": {
      "text/plain": [
       "array([[-0.00167031, -0.01348056,  0.05503345, ...,  0.03676451,\n",
       "        -0.01982247, -0.03713398],\n",
       "       [-0.00167031, -0.01348056,  0.05503345, ...,  0.03676451,\n",
       "        -0.01982247, -0.03713398],\n",
       "       [-0.00117272, -0.01238479,  0.05189994, ...,  0.03280076,\n",
       "        -0.01840513, -0.03422448],\n",
       "       ..., \n",
       "       [-0.00141957, -0.01256491,  0.05565215, ...,  0.03712355,\n",
       "        -0.02034513, -0.03708953],\n",
       "       [-0.00167031, -0.01348056,  0.05503345, ...,  0.03676451,\n",
       "        -0.01982247, -0.03713398],\n",
       "       [-0.00117272, -0.01238479,  0.05189994, ...,  0.03280076,\n",
       "        -0.01840513, -0.03422448]])"
      ]
     },
     "execution_count": 36,
     "metadata": {},
     "output_type": "execute_result"
    }
   ],
   "source": [
    "X[np.where(X_tsne[:,1]<-70)]"
   ]
  },
  {
   "cell_type": "code",
   "execution_count": 37,
   "metadata": {},
   "outputs": [
    {
     "data": {
      "text/plain": [
       "(array([ 207,  227, 1423, 1612, 2531, 2749, 3533, 3703, 3885]),)"
      ]
     },
     "execution_count": 37,
     "metadata": {},
     "output_type": "execute_result"
    }
   ],
   "source": [
    "np.where((sentence_word2vec == X[171]).all(axis=1))"
   ]
  },
  {
   "cell_type": "code",
   "execution_count": 38,
   "metadata": {},
   "outputs": [
    {
     "data": {
      "text/plain": [
       "['12']"
      ]
     },
     "execution_count": 38,
     "metadata": {},
     "output_type": "execute_result"
    }
   ],
   "source": [
    "sentence_seg[207]"
   ]
  },
  {
   "cell_type": "code",
   "execution_count": 39,
   "metadata": {},
   "outputs": [
    {
     "data": {
      "text/plain": [
       "['12']"
      ]
     },
     "execution_count": 39,
     "metadata": {},
     "output_type": "execute_result"
    }
   ],
   "source": [
    "sentence_seg[227]"
   ]
  },
  {
   "cell_type": "code",
   "execution_count": 40,
   "metadata": {},
   "outputs": [
    {
     "data": {
      "text/plain": [
       "['狼', '人牌']"
      ]
     },
     "execution_count": 40,
     "metadata": {},
     "output_type": "execute_result"
    }
   ],
   "source": [
    "sentence_seg[1612]"
   ]
  },
  {
   "cell_type": "code",
   "execution_count": 41,
   "metadata": {},
   "outputs": [
    {
     "data": {
      "text/plain": [
       "['轮次']"
      ]
     },
     "execution_count": 41,
     "metadata": {},
     "output_type": "execute_result"
    }
   ],
   "source": [
    "sentence_seg[2749]"
   ]
  },
  {
   "cell_type": "code",
   "execution_count": null,
   "metadata": {
    "collapsed": true
   },
   "outputs": [],
   "source": []
  }
 ],
 "metadata": {
  "kernelspec": {
   "display_name": "Python [conda env:deeplearning]",
   "language": "python",
   "name": "conda-env-deeplearning-py"
  },
  "language_info": {
   "codemirror_mode": {
    "name": "ipython",
    "version": 3
   },
   "file_extension": ".py",
   "mimetype": "text/x-python",
   "name": "python",
   "nbconvert_exporter": "python",
   "pygments_lexer": "ipython3",
   "version": "3.6.2"
  }
 },
 "nbformat": 4,
 "nbformat_minor": 2
}
