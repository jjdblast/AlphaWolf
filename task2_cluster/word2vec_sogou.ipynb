{
 "cells": [
  {
   "cell_type": "markdown",
   "metadata": {},
   "source": [
    "## Creating word2vec for dialoge clustering"
   ]
  },
  {
   "cell_type": "markdown",
   "metadata": {},
   "source": [
    "## 1. trainning word2vec"
   ]
  },
  {
   "cell_type": "markdown",
   "metadata": {},
   "source": [
    "word2vec model is trainning on sogou news data : http://www.sogou.com/labs/resource/ca.php"
   ]
  },
  {
   "cell_type": "markdown",
   "metadata": {},
   "source": [
    "### convert encoding for original corpus"
   ]
  },
  {
   "cell_type": "code",
   "execution_count": null,
   "metadata": {
    "collapsed": true
   },
   "outputs": [],
   "source": [
    "## encoding\n",
    "# cat news_tensite_xml.dat | iconv -f gbk -t utf-8 -c | grep \"<content>\"  > corpus.txt "
   ]
  },
  {
   "cell_type": "markdown",
   "metadata": {},
   "source": [
    "### using jieba to create word segments"
   ]
  },
  {
   "cell_type": "code",
   "execution_count": null,
   "metadata": {
    "collapsed": true
   },
   "outputs": [],
   "source": [
    "## word segment\n",
    "# python word_segment.py corpus.txt corpus_seg.txt"
   ]
  },
  {
   "cell_type": "markdown",
   "metadata": {},
   "source": [
    "### using gensim to train word2vec"
   ]
  },
  {
   "cell_type": "code",
   "execution_count": null,
   "metadata": {
    "collapsed": true
   },
   "outputs": [],
   "source": [
    "## in bash\n",
    "# python train_word2vec.py corpus_seg.txt sogou_corpus.model sogou_corpus.vector"
   ]
  },
  {
   "cell_type": "markdown",
   "metadata": {},
   "source": [
    "## 2. loading word2vec"
   ]
  },
  {
   "cell_type": "code",
   "execution_count": 1,
   "metadata": {
    "collapsed": true
   },
   "outputs": [],
   "source": [
    "import gensim\n",
    "model_path = \"/root/sharefolder/data/sogou/sogou_corpus.model\""
   ]
  },
  {
   "cell_type": "code",
   "execution_count": 2,
   "metadata": {
    "collapsed": true
   },
   "outputs": [],
   "source": [
    "model = gensim.models.Word2Vec.load(model_path)"
   ]
  },
  {
   "cell_type": "code",
   "execution_count": 3,
   "metadata": {
    "collapsed": true
   },
   "outputs": [],
   "source": [
    "result = model.most_similar(u'狼人')"
   ]
  },
  {
   "cell_type": "code",
   "execution_count": 4,
   "metadata": {},
   "outputs": [
    {
     "name": "stdout",
     "output_type": "stream",
     "text": [
      "吸血鬼 0.5820544958114624\n",
      "冷血 0.5428041815757751\n",
      "嗜血 0.524250864982605\n",
      "邪术 0.512703537940979\n",
      "亦正亦邪 0.4917246401309967\n",
      "黑寡妇 0.4913491904735565\n",
      "情敌 0.48314011096954346\n",
      "僵尸 0.48175695538520813\n",
      "妖 0.4807977080345154\n",
      "变身 0.47415101528167725\n"
     ]
    }
   ],
   "source": [
    "for word in result:\n",
    "    print(word[0],word[1])"
   ]
  },
  {
   "cell_type": "markdown",
   "metadata": {},
   "source": [
    "## number of features"
   ]
  },
  {
   "cell_type": "code",
   "execution_count": 5,
   "metadata": {},
   "outputs": [
    {
     "data": {
      "text/plain": [
       "(400,)"
      ]
     },
     "execution_count": 5,
     "metadata": {},
     "output_type": "execute_result"
    }
   ],
   "source": [
    "model[u'狼人'].shape"
   ]
  },
  {
   "cell_type": "markdown",
   "metadata": {},
   "source": [
    "## 3. generating word2vec of words/sentence"
   ]
  },
  {
   "cell_type": "code",
   "execution_count": 6,
   "metadata": {},
   "outputs": [
    {
     "name": "stderr",
     "output_type": "stream",
     "text": [
      "Building prefix dict from the default dictionary ...\n",
      "Loading model from cache /tmp/jieba.cache\n",
      "Loading model cost 0.691 seconds.\n",
      "Prefix dict has been built succesfully.\n"
     ]
    }
   ],
   "source": [
    "import pandas as pd\n",
    "from utils import generate_seglist, remove_punctuation, generate_sentence_vec"
   ]
  },
  {
   "cell_type": "code",
   "execution_count": 44,
   "metadata": {
    "collapsed": true
   },
   "outputs": [],
   "source": [
    "dialoge_stream = pd.read_csv(\"./data/part2.csv\")['人工更正']\n",
    "dialoge_label = pd.read_csv(\"./data/part2.csv\")['更正order']"
   ]
  },
  {
   "cell_type": "markdown",
   "metadata": {},
   "source": [
    "### segment and remove punctuation"
   ]
  },
  {
   "cell_type": "code",
   "execution_count": 8,
   "metadata": {
    "collapsed": true
   },
   "outputs": [],
   "source": [
    "sentence_seg = dialoge_stream.apply(generate_seglist)\n",
    "sentence_seg = sentence_seg.apply(remove_punctuation)"
   ]
  },
  {
   "cell_type": "code",
   "execution_count": 9,
   "metadata": {},
   "outputs": [
    {
     "data": {
      "text/plain": [
       "0          然后 10 号 呢 不单是 指出 9 号 这些\n",
       "1    然后 又 说 了 很多 发言 的 逻辑 上 的 一些 细节\n",
       "2                        我 觉得 10 号\n",
       "3                        很 努力 在 分析\n",
       "4         10 号 应该 是 好人 我 自己 是 个 好人\n",
       "Name: 人工更正, dtype: object"
      ]
     },
     "execution_count": 9,
     "metadata": {},
     "output_type": "execute_result"
    }
   ],
   "source": [
    "sentence_seg.head()"
   ]
  },
  {
   "cell_type": "markdown",
   "metadata": {},
   "source": [
    "### generate words list word2vec"
   ]
  },
  {
   "cell_type": "code",
   "execution_count": 19,
   "metadata": {
    "collapsed": true
   },
   "outputs": [],
   "source": [
    "sentence_word2vec = sentence_seg.apply(lambda x:generate_sentence_vec(x, model, num_features=400))\n",
    "sentence_word2vec = pd.DataFrame(sentence_word2vec.tolist())"
   ]
  },
  {
   "cell_type": "code",
   "execution_count": 43,
   "metadata": {
    "scrolled": true
   },
   "outputs": [
    {
     "data": {
      "text/html": [
       "<div>\n",
       "<style>\n",
       "    .dataframe thead tr:only-child th {\n",
       "        text-align: right;\n",
       "    }\n",
       "\n",
       "    .dataframe thead th {\n",
       "        text-align: left;\n",
       "    }\n",
       "\n",
       "    .dataframe tbody tr th {\n",
       "        vertical-align: top;\n",
       "    }\n",
       "</style>\n",
       "<table border=\"1\" class=\"dataframe\">\n",
       "  <thead>\n",
       "    <tr style=\"text-align: right;\">\n",
       "      <th></th>\n",
       "      <th>0</th>\n",
       "      <th>1</th>\n",
       "      <th>2</th>\n",
       "      <th>3</th>\n",
       "      <th>4</th>\n",
       "      <th>5</th>\n",
       "      <th>6</th>\n",
       "      <th>7</th>\n",
       "      <th>8</th>\n",
       "      <th>9</th>\n",
       "      <th>...</th>\n",
       "      <th>390</th>\n",
       "      <th>391</th>\n",
       "      <th>392</th>\n",
       "      <th>393</th>\n",
       "      <th>394</th>\n",
       "      <th>395</th>\n",
       "      <th>396</th>\n",
       "      <th>397</th>\n",
       "      <th>398</th>\n",
       "      <th>399</th>\n",
       "    </tr>\n",
       "  </thead>\n",
       "  <tbody>\n",
       "    <tr>\n",
       "      <th>0</th>\n",
       "      <td>-0.586911</td>\n",
       "      <td>0.410888</td>\n",
       "      <td>0.005076</td>\n",
       "      <td>0.381272</td>\n",
       "      <td>0.247413</td>\n",
       "      <td>0.426537</td>\n",
       "      <td>-0.103527</td>\n",
       "      <td>0.046398</td>\n",
       "      <td>-0.137389</td>\n",
       "      <td>-0.432365</td>\n",
       "      <td>...</td>\n",
       "      <td>0.047154</td>\n",
       "      <td>-0.179673</td>\n",
       "      <td>-0.108514</td>\n",
       "      <td>-0.302196</td>\n",
       "      <td>0.468786</td>\n",
       "      <td>0.119393</td>\n",
       "      <td>-0.138270</td>\n",
       "      <td>0.301523</td>\n",
       "      <td>0.591327</td>\n",
       "      <td>-0.488715</td>\n",
       "    </tr>\n",
       "    <tr>\n",
       "      <th>1</th>\n",
       "      <td>-0.962779</td>\n",
       "      <td>-0.066662</td>\n",
       "      <td>0.275736</td>\n",
       "      <td>0.271318</td>\n",
       "      <td>0.007099</td>\n",
       "      <td>0.338654</td>\n",
       "      <td>0.561402</td>\n",
       "      <td>-0.241321</td>\n",
       "      <td>0.119185</td>\n",
       "      <td>-0.351737</td>\n",
       "      <td>...</td>\n",
       "      <td>-0.489504</td>\n",
       "      <td>-0.334005</td>\n",
       "      <td>-0.304429</td>\n",
       "      <td>-0.450947</td>\n",
       "      <td>-0.057448</td>\n",
       "      <td>0.010073</td>\n",
       "      <td>0.487115</td>\n",
       "      <td>0.428335</td>\n",
       "      <td>0.815482</td>\n",
       "      <td>-0.327044</td>\n",
       "    </tr>\n",
       "    <tr>\n",
       "      <th>2</th>\n",
       "      <td>0.449919</td>\n",
       "      <td>-0.050126</td>\n",
       "      <td>-1.106881</td>\n",
       "      <td>1.376046</td>\n",
       "      <td>0.572678</td>\n",
       "      <td>0.327145</td>\n",
       "      <td>0.255451</td>\n",
       "      <td>0.882787</td>\n",
       "      <td>-0.056735</td>\n",
       "      <td>-0.173572</td>\n",
       "      <td>...</td>\n",
       "      <td>1.028329</td>\n",
       "      <td>-1.153862</td>\n",
       "      <td>-1.196584</td>\n",
       "      <td>-0.281050</td>\n",
       "      <td>0.153176</td>\n",
       "      <td>0.132349</td>\n",
       "      <td>-0.285865</td>\n",
       "      <td>-0.100130</td>\n",
       "      <td>0.830579</td>\n",
       "      <td>-1.504408</td>\n",
       "    </tr>\n",
       "    <tr>\n",
       "      <th>3</th>\n",
       "      <td>-0.916608</td>\n",
       "      <td>-0.084889</td>\n",
       "      <td>-0.542738</td>\n",
       "      <td>-0.367809</td>\n",
       "      <td>-0.557396</td>\n",
       "      <td>0.549151</td>\n",
       "      <td>0.617585</td>\n",
       "      <td>0.157626</td>\n",
       "      <td>-0.257418</td>\n",
       "      <td>0.026145</td>\n",
       "      <td>...</td>\n",
       "      <td>-0.982725</td>\n",
       "      <td>0.520247</td>\n",
       "      <td>-0.628845</td>\n",
       "      <td>0.006616</td>\n",
       "      <td>0.844196</td>\n",
       "      <td>-0.274645</td>\n",
       "      <td>-0.619044</td>\n",
       "      <td>-0.182843</td>\n",
       "      <td>0.379734</td>\n",
       "      <td>-0.651989</td>\n",
       "    </tr>\n",
       "    <tr>\n",
       "      <th>4</th>\n",
       "      <td>0.137570</td>\n",
       "      <td>0.369144</td>\n",
       "      <td>0.360031</td>\n",
       "      <td>-0.782851</td>\n",
       "      <td>-0.468161</td>\n",
       "      <td>0.546320</td>\n",
       "      <td>0.061615</td>\n",
       "      <td>0.980460</td>\n",
       "      <td>0.209388</td>\n",
       "      <td>0.648763</td>\n",
       "      <td>...</td>\n",
       "      <td>-0.348683</td>\n",
       "      <td>-0.654627</td>\n",
       "      <td>-0.744848</td>\n",
       "      <td>-0.128895</td>\n",
       "      <td>0.346817</td>\n",
       "      <td>0.323455</td>\n",
       "      <td>-0.283196</td>\n",
       "      <td>-0.921009</td>\n",
       "      <td>1.023242</td>\n",
       "      <td>-1.004353</td>\n",
       "    </tr>\n",
       "  </tbody>\n",
       "</table>\n",
       "<p>5 rows × 400 columns</p>\n",
       "</div>"
      ],
      "text/plain": [
       "        0         1         2         3         4         5         6    \\\n",
       "0 -0.586911  0.410888  0.005076  0.381272  0.247413  0.426537 -0.103527   \n",
       "1 -0.962779 -0.066662  0.275736  0.271318  0.007099  0.338654  0.561402   \n",
       "2  0.449919 -0.050126 -1.106881  1.376046  0.572678  0.327145  0.255451   \n",
       "3 -0.916608 -0.084889 -0.542738 -0.367809 -0.557396  0.549151  0.617585   \n",
       "4  0.137570  0.369144  0.360031 -0.782851 -0.468161  0.546320  0.061615   \n",
       "\n",
       "        7         8         9      ...          390       391       392  \\\n",
       "0  0.046398 -0.137389 -0.432365    ...     0.047154 -0.179673 -0.108514   \n",
       "1 -0.241321  0.119185 -0.351737    ...    -0.489504 -0.334005 -0.304429   \n",
       "2  0.882787 -0.056735 -0.173572    ...     1.028329 -1.153862 -1.196584   \n",
       "3  0.157626 -0.257418  0.026145    ...    -0.982725  0.520247 -0.628845   \n",
       "4  0.980460  0.209388  0.648763    ...    -0.348683 -0.654627 -0.744848   \n",
       "\n",
       "        393       394       395       396       397       398       399  \n",
       "0 -0.302196  0.468786  0.119393 -0.138270  0.301523  0.591327 -0.488715  \n",
       "1 -0.450947 -0.057448  0.010073  0.487115  0.428335  0.815482 -0.327044  \n",
       "2 -0.281050  0.153176  0.132349 -0.285865 -0.100130  0.830579 -1.504408  \n",
       "3  0.006616  0.844196 -0.274645 -0.619044 -0.182843  0.379734 -0.651989  \n",
       "4 -0.128895  0.346817  0.323455 -0.283196 -0.921009  1.023242 -1.004353  \n",
       "\n",
       "[5 rows x 400 columns]"
      ]
     },
     "execution_count": 43,
     "metadata": {},
     "output_type": "execute_result"
    }
   ],
   "source": [
    "sentence_word2vec.head()"
   ]
  },
  {
   "cell_type": "code",
   "execution_count": 50,
   "metadata": {},
   "outputs": [
    {
     "data": {
      "text/plain": [
       "array([[-0.58691126,  0.41088834,  0.00507593, ...,  0.30152276,\n",
       "         0.59132725, -0.48871458],\n",
       "       [-0.96277851, -0.06666228,  0.27573621, ...,  0.42833486,\n",
       "         0.81548208, -0.32704383],\n",
       "       [ 0.44991869, -0.05012605, -1.10688066, ..., -0.10013036,\n",
       "         0.83057892, -1.50440788],\n",
       "       ..., \n",
       "       [-0.65844274,  0.89439213,  0.20323716, ...,  0.05889179,\n",
       "         0.64306098, -0.76488346],\n",
       "       [-0.19848685,  0.52454036,  0.0732806 , ..., -0.13454008,\n",
       "         0.43863639, -0.7767657 ],\n",
       "       [-0.33611894,  0.16608477, -0.1732984 , ..., -0.04311371,\n",
       "         1.39183486, -1.35424089]])"
      ]
     },
     "execution_count": 50,
     "metadata": {},
     "output_type": "execute_result"
    }
   ],
   "source": [
    "sentence_word2vec = sentence_word2vec.values\n",
    "sentence_word2vec"
   ]
  },
  {
   "cell_type": "code",
   "execution_count": 51,
   "metadata": {},
   "outputs": [
    {
     "data": {
      "text/plain": [
       "(1954,)"
      ]
     },
     "execution_count": 51,
     "metadata": {},
     "output_type": "execute_result"
    }
   ],
   "source": [
    "dialoge_label.shape"
   ]
  },
  {
   "cell_type": "code",
   "execution_count": null,
   "metadata": {
    "collapsed": true
   },
   "outputs": [],
   "source": []
  },
  {
   "cell_type": "markdown",
   "metadata": {
    "collapsed": true
   },
   "source": [
    "## 4. k-means clustering"
   ]
  },
  {
   "cell_type": "code",
   "execution_count": 53,
   "metadata": {
    "collapsed": true
   },
   "outputs": [],
   "source": [
    "from scipy.cluster.vq import kmeans,vq\n",
    "from scipy.spatial.distance import cdist\n",
    "import matplotlib.pyplot as plt\n",
    "%matplotlib inline"
   ]
  },
  {
   "cell_type": "code",
   "execution_count": 56,
   "metadata": {
    "collapsed": true
   },
   "outputs": [],
   "source": [
    "# load dataset\n",
    "X = sentence_word2vec[~np.isnan(sentence_word2vec).any(axis=1)]\n",
    "y = dialoge_label[~np.isnan(sentence_word2vec).any(axis=1)]\n",
    "\n",
    "##### cluster data into K=1..10 clusters #####\n",
    "K = range(1,15)\n",
    "\n",
    "# scipy.cluster.vq.kmeans\n",
    "KM = [kmeans(X,k) for k in K]\n",
    "centroids = [cent for (cent,var) in KM]   # cluster centroids\n",
    "\n",
    "# alternative: scipy.spatial.distance.cdist\n",
    "D_k = [cdist(X, cent, 'euclidean') for cent in centroids]\n",
    "cIdx = [np.argmin(D,axis=1) for D in D_k]\n",
    "dist = [np.min(D,axis=1) for D in D_k]\n",
    "avgWithinSS = [sum(d)/X.shape[0] for d in dist]"
   ]
  },
  {
   "cell_type": "code",
   "execution_count": 58,
   "metadata": {},
   "outputs": [
    {
     "data": {
      "text/plain": [
       "<matplotlib.text.Text at 0x7f9ce89d29e8>"
      ]
     },
     "execution_count": 58,
     "metadata": {},
     "output_type": "execute_result"
    },
    {
     "data": {
      "image/png": "[encoded data removed]",
      "text/plain": [
       "<matplotlib.figure.Figure at 0x7f9d0410f550>"
      ]
     },
     "metadata": {},
     "output_type": "display_data"
    }
   ],
   "source": [
    "##### plot ###\n",
    "kIdx = 12\n",
    "\n",
    "# elbow curve\n",
    "fig = plt.figure()\n",
    "ax = fig.add_subplot(111)\n",
    "ax.plot(K, avgWithinSS, 'b*-')\n",
    "ax.plot(K[kIdx], avgWithinSS[kIdx], marker='o', markersize=12, \n",
    "    markeredgewidth=2, markeredgecolor='r', markerfacecolor='None')\n",
    "plt.grid(True)\n",
    "plt.xlabel('Number of clusters')\n",
    "plt.ylabel('Average within-cluster sum of squares')\n",
    "plt.title('Elbow for KMeans clustering')"
   ]
  },
  {
   "cell_type": "code",
   "execution_count": 59,
   "metadata": {},
   "outputs": [
    {
     "data": {
      "text/plain": [
       "4     288\n",
       "12    279\n",
       "9     240\n",
       "1     218\n",
       "7     197\n",
       "11    162\n",
       "8     147\n",
       "5     121\n",
       "3     106\n",
       "6      83\n",
       "2      62\n",
       "10     51\n",
       "Name: 更正order, dtype: int64"
      ]
     },
     "execution_count": 59,
     "metadata": {},
     "output_type": "execute_result"
    }
   ],
   "source": [
    "dialoge_label.value_counts()"
   ]
  },
  {
   "cell_type": "markdown",
   "metadata": {},
   "source": [
    "## 5. visualizing tsne"
   ]
  },
  {
   "cell_type": "code",
   "execution_count": 60,
   "metadata": {
    "collapsed": true
   },
   "outputs": [],
   "source": [
    "from sklearn.manifold import TSNE"
   ]
  },
  {
   "cell_type": "code",
   "execution_count": 64,
   "metadata": {
    "collapsed": true
   },
   "outputs": [],
   "source": [
    "tsne = TSNE(n_components=2)\n",
    "X_tsne = tsne.fit_transform(X)"
   ]
  },
  {
   "cell_type": "code",
   "execution_count": 93,
   "metadata": {},
   "outputs": [
    {
     "data": {
      "text/plain": [
       "(1946,)"
      ]
     },
     "execution_count": 93,
     "metadata": {},
     "output_type": "execute_result"
    }
   ],
   "source": [
    "X_tsne.shape\n",
    "y.shape"
   ]
  },
  {
   "cell_type": "code",
   "execution_count": 102,
   "metadata": {},
   "outputs": [
    {
     "name": "stderr",
     "output_type": "stream",
     "text": [
      "/usr/local/envs/deeplearning/lib/python3.6/site-packages/matplotlib/axes/_axes.py:545: UserWarning: No labelled objects found. Use label='...' kwarg on individual plots.\n",
      "  warnings.warn(\"No labelled objects found. \"\n"
     ]
    },
    {
     "data": {
      "image/png": "[encoded data removed]",
      "text/plain": [
       "<matplotlib.figure.Figure at 0x7f9cdd88ad68>"
      ]
     },
     "metadata": {},
     "output_type": "display_data"
    }
   ],
   "source": [
    "fig = plt.figure()\n",
    "ax = fig.add_subplot(1,1,1)\n",
    "ax.scatter(X_tsne[:, 0], X_tsne[:, 1], c=y, cmap='Paired')\n",
    "ax.legend()\n",
    "plt.show()"
   ]
  },
  {
   "cell_type": "code",
   "execution_count": 113,
   "metadata": {},
   "outputs": [
    {
     "data": {
      "text/plain": [
       "(array([1038]),)"
      ]
     },
     "execution_count": 113,
     "metadata": {},
     "output_type": "execute_result"
    }
   ],
   "source": [
    "np.where(X_tsne[:,1]<-80)"
   ]
  },
  {
   "cell_type": "code",
   "execution_count": 119,
   "metadata": {},
   "outputs": [
    {
     "data": {
      "text/plain": [
       "(array([1041]),)"
      ]
     },
     "execution_count": 119,
     "metadata": {},
     "output_type": "execute_result"
    }
   ],
   "source": [
    "np.where((sentence_word2vec == X[1038]).all(axis=1))"
   ]
  },
  {
   "cell_type": "code",
   "execution_count": 122,
   "metadata": {},
   "outputs": [
    {
     "data": {
      "text/plain": [
       "1039    反正 我 今天 能 保证 你们 的 事 一定 是 一张 狼人牌 出局\n",
       "1040                        但是 会 不会 是 狼 王牌\n",
       "1041                    I   don ’ t   know\n",
       "1042                             给 我 清朗 眼光\n",
       "1043                                 看清 真相\n",
       "1044                         我来 给 大家 沉底 发言\n",
       "Name: 人工更正, dtype: object"
      ]
     },
     "execution_count": 122,
     "metadata": {},
     "output_type": "execute_result"
    }
   ],
   "source": [
    "sentence_seg[1039:1045]"
   ]
  }
 ],
 "metadata": {
  "kernelspec": {
   "display_name": "Python [conda env:deeplearning]",
   "language": "python",
   "name": "conda-env-deeplearning-py"
  },
  "language_info": {
   "codemirror_mode": {
    "name": "ipython",
    "version": 3
   },
   "file_extension": ".py",
   "mimetype": "text/x-python",
   "name": "python",
   "nbconvert_exporter": "python",
   "pygments_lexer": "ipython3",
   "version": "3.6.2"
  }
 },
 "nbformat": 4,
 "nbformat_minor": 2
}
